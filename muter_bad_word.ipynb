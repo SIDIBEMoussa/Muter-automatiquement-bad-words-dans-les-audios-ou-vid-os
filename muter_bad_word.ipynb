{
  "nbformat": 4,
  "nbformat_minor": 0,
  "metadata": {
    "colab": {
      "provenance": [],
      "authorship_tag": "ABX9TyPlLhebz25mAh1UdGxPs6Ex",
      "include_colab_link": true
    },
    "kernelspec": {
      "name": "python3",
      "display_name": "Python 3"
    },
    "language_info": {
      "name": "python"
    }
  },
  "cells": [
    {
      "cell_type": "markdown",
      "metadata": {
        "id": "view-in-github",
        "colab_type": "text"
      },
      "source": [
        "<a href=\"https://colab.research.google.com/github/SIDIBEMoussa/Muter-automatiquement-bad-words-dans-les-audios-ou-videos/blob/main/muter_bad_word.ipynb\" target=\"_parent\"><img src=\"https://colab.research.google.com/assets/colab-badge.svg\" alt=\"Open In Colab\"/></a>"
      ]
    },
    {
      "cell_type": "code",
      "source": [
        "import importlib\n",
        "import importlib.util\n",
        "import subprocess\n",
        "import sys\n",
        "import os\n",
        "from pathlib import Path"
      ],
      "metadata": {
        "id": "T-c9jmdh8-g7"
      },
      "execution_count": 1,
      "outputs": []
    },
    {
      "cell_type": "code",
      "source": [
        "def ensure_package(package_name,import_name = None):\n",
        "    try:\n",
        "        if not import_name:\n",
        "            import_name = package_name\n",
        "        importlib.import_module(import_name)\n",
        "    except ImportError:\n",
        "        print(f\"Installing {package_name}...\\n\", end=' ', flush=True)\n",
        "        subprocess.check_call([sys.executable, \"-m\", \"pip\", \"install\", package_name, \"--quiet\"])\n",
        "        print(\"Installing done\")\n",
        "    else:\n",
        "        print(\"Package already installed\")\n",
        "\n",
        "def clone_repo_quietly(repo_url, target_dir=None):\n",
        "    target_dir = target_dir or repo_url.split('/')[-1].replace('.git', '')\n",
        "    if not Path(target_dir).exists():\n",
        "        subprocess.run(\n",
        "            [\"git\", \"clone\", \"--quiet\", repo_url, target_dir],\n",
        "            stdout=subprocess.DEVNULL,\n",
        "            stderr=subprocess.DEVNULL,\n",
        "        )\n",
        "    print(\"Cloning done\")"
      ],
      "metadata": {
        "id": "nk294r_l2QW5"
      },
      "execution_count": 2,
      "outputs": []
    },
    {
      "cell_type": "code",
      "source": [
        "ensure_package(\"git+https://github.com/openai/whisper.git\",\"whisper\")\n",
        "clone_repo_quietly(\"https://github.com/LDNOOBW/List-of-Dirty-Naughty-Obscene-and-Otherwise-Bad-Words\")"
      ],
      "metadata": {
        "colab": {
          "base_uri": "https://localhost:8080/"
        },
        "id": "7w_DR5NN2Ufx",
        "outputId": "306a9e8a-ddba-4ec2-d238-05cf94836352"
      },
      "execution_count": 3,
      "outputs": [
        {
          "output_type": "stream",
          "name": "stdout",
          "text": [
            "Package already installed\n",
            "Cloning done\n"
          ]
        }
      ]
    },
    {
      "cell_type": "code",
      "source": [
        "def load_bad_words(language=\"fr\"):\n",
        "\n",
        "    with open(f\"List-of-Dirty-Naughty-Obscene-and-Otherwise-Bad-Words/{language}\", \"r\", encoding=\"utf-8\") as f:\n",
        "        return set(word.strip().lower() for word in f if word.strip())\n",
        "\n",
        "bad_words_fr = load_bad_words(\"fr\")\n",
        "bad_words_en = load_bad_words(\"en\")\n",
        "bad_words_all = bad_words_fr.union(bad_words_en)\n"
      ],
      "metadata": {
        "id": "rJD17rHw3JFs"
      },
      "execution_count": 4,
      "outputs": []
    },
    {
      "cell_type": "code",
      "source": [
        "import whisper"
      ],
      "metadata": {
        "id": "stLH3jrQ2rr3"
      },
      "execution_count": 5,
      "outputs": []
    },
    {
      "cell_type": "code",
      "source": [
        "def transcribe_video(video_path, language=\"fr\"):\n",
        "    model = whisper.load_model(\"medium\")\n",
        "    result = model.transcribe(video_path, language=language, word_timestamps=True)\n",
        "    return result\n",
        "result = transcribe_video(\"movie.mp4\", \"en\")"
      ],
      "metadata": {
        "colab": {
          "base_uri": "https://localhost:8080/"
        },
        "id": "409H71QW2Qtq",
        "outputId": "4bd338f6-4a2e-450e-ec35-08c311cebd03"
      },
      "execution_count": 6,
      "outputs": [
        {
          "output_type": "stream",
          "name": "stderr",
          "text": [
            "/usr/local/lib/python3.11/dist-packages/whisper/transcribe.py:132: UserWarning: FP16 is not supported on CPU; using FP32 instead\n",
            "  warnings.warn(\"FP16 is not supported on CPU; using FP32 instead\")\n"
          ]
        }
      ]
    },
    {
      "cell_type": "code",
      "source": [
        "#result['segments'][0]"
      ],
      "metadata": {
        "id": "2h42W3Yw22r3",
        "collapsed": true
      },
      "execution_count": 17,
      "outputs": []
    },
    {
      "cell_type": "code",
      "source": [
        "\n",
        "def get_bad_words(result,language=\"fr\"):\n",
        "    profanity_timestamps = []\n",
        "    if language == \"fr\":\n",
        "        bad_words = bad_words_fr\n",
        "    elif language == \"en\":\n",
        "        bad_words = bad_words_en\n",
        "    else:\n",
        "        bad_words = bad_words_all\n",
        "\n",
        "    for seg in result[\"segments\"]:\n",
        "        for word in seg[\"words\"]:\n",
        "            if word[\"word\"].strip().lower() in bad_words:\n",
        "                profanity_timestamps.append((word[\"start\"], word[\"end\"]))\n",
        "    return profanity_timestamps"
      ],
      "metadata": {
        "id": "UdDbjjvh6rRu"
      },
      "execution_count": 8,
      "outputs": []
    },
    {
      "cell_type": "code",
      "source": [
        "profanity_timestamps = get_bad_words(result,language=\"eng\")\n",
        "profanity_timestamps"
      ],
      "metadata": {
        "colab": {
          "base_uri": "https://localhost:8080/"
        },
        "id": "YEYAUrPa66wy",
        "outputId": "10fc0308-8cb3-4d4c-84c2-658f055d3ad4"
      },
      "execution_count": 9,
      "outputs": [
        {
          "output_type": "execute_result",
          "data": {
            "text/plain": [
              "[]"
            ]
          },
          "metadata": {},
          "execution_count": 9
        }
      ]
    },
    {
      "cell_type": "code",
      "source": [
        "def mute_profanities(input_video, output_video, profanity_timestamps):\n",
        "    # Construire le filtre audio\n",
        "    filters = []\n",
        "    for start, end in profanity_timestamps:\n",
        "        filters.append(f\"volume=enable='between(t,{start},{end})':volume=0\")\n",
        "\n",
        "    volume_filter = \",\".join(filters)\n",
        "\n",
        "    # Commande ffmpeg\n",
        "    command = [\n",
        "        \"ffmpeg\",\n",
        "        \"-i\", input_video,\n",
        "        \"-af\", volume_filter,\n",
        "        \"-c:v\", \"copy\",  # on ne touche pas à la vidéo\n",
        "        \"-y\",  # overwrite\n",
        "        output_video\n",
        "    ]\n",
        "\n",
        "    print(\"Running FFmpeg command:\")\n",
        "    print(\" \".join(command))\n",
        "\n",
        "    subprocess.run(command)"
      ],
      "metadata": {
        "id": "ZCqMFKuW6786"
      },
      "execution_count": 10,
      "outputs": []
    },
    {
      "cell_type": "code",
      "source": [
        "mute_profanities(\n",
        "    input_video=\"movie.mp4\",\n",
        "    output_video=\"clean_movie.mp4\",\n",
        "    profanity_timestamps=profanity_timestamps\n",
        ")"
      ],
      "metadata": {
        "colab": {
          "base_uri": "https://localhost:8080/"
        },
        "id": "42PrcmkZ8EAD",
        "outputId": "9487210d-696f-4fe2-cc79-b43e7d4ae877"
      },
      "execution_count": 11,
      "outputs": [
        {
          "output_type": "stream",
          "name": "stdout",
          "text": [
            "Running FFmpeg command:\n",
            "ffmpeg -i movie.mp4 -af  -c:v copy -y clean_movie.mp4\n"
          ]
        }
      ]
    },
    {
      "cell_type": "code",
      "source": [],
      "metadata": {
        "id": "I8xvxAGHEE9O"
      },
      "execution_count": 11,
      "outputs": []
    },
    {
      "cell_type": "code",
      "source": [
        "def write_srt(transcription_result, srt_filename=\"captions.srt\"):\n",
        "    def format_timestamp(seconds):\n",
        "        h = int(seconds // 3600)\n",
        "        m = int((seconds % 3600) // 60)\n",
        "        s = int(seconds % 60)\n",
        "        ms = int((seconds - int(seconds)) * 1000)\n",
        "        return f\"{h:02}:{m:02}:{s:02},{ms:03}\"\n",
        "\n",
        "    with open(srt_filename, \"w\", encoding=\"utf-8\") as f:\n",
        "        for i, seg in enumerate(transcription_result[\"segments\"], 1):\n",
        "            start = format_timestamp(seg[\"start\"])\n",
        "            end = format_timestamp(seg[\"end\"])\n",
        "            text = seg[\"text\"].strip()\n",
        "            f.write(f\"{i}\\n{start} --> {end}\\n{text}\\n\\n\")\n",
        "\n",
        "write_srt(result)"
      ],
      "metadata": {
        "id": "RqZYLElNEE6V"
      },
      "execution_count": 12,
      "outputs": []
    },
    {
      "cell_type": "code",
      "source": [
        "#! ffmpeg -i movie.mp4 -vf subtitles=captions.srt -c:a copy output_with_subs.mp4"
      ],
      "metadata": {
        "id": "yoSxlweOEEyY"
      },
      "execution_count": 13,
      "outputs": []
    },
    {
      "cell_type": "code",
      "source": [
        "import subprocess\n",
        "\n",
        "def burn_captions(input_video, output_video, srt_file=\"captions.srt\"):\n",
        "    cmd = [\n",
        "        \"ffmpeg\",\n",
        "        \"-i\", input_video,\n",
        "        \"-vf\", f\"subtitles={srt_file}\",\n",
        "        \"-c:a\", \"copy\",\n",
        "        \"-y\",  # overwrite\n",
        "        output_video\n",
        "    ]\n",
        "    subprocess.run(cmd)"
      ],
      "metadata": {
        "id": "jA8FzQRPETGX"
      },
      "execution_count": 14,
      "outputs": []
    },
    {
      "cell_type": "code",
      "source": [
        "result = whisper.load_model(\"medium\").transcribe(\"movie.mp4\")\n",
        "\n",
        "write_srt(result, \"captions.srt\")\n",
        "burn_captions(\"movie.mp4\", \"movie_captioned.mp4\", \"captions.srt\")\n"
      ],
      "metadata": {
        "colab": {
          "base_uri": "https://localhost:8080/"
        },
        "id": "f4cXXalLEfp6",
        "outputId": "a311806d-518c-4e35-ba40-525d04f0c192"
      },
      "execution_count": 15,
      "outputs": [
        {
          "output_type": "stream",
          "name": "stderr",
          "text": [
            "/usr/local/lib/python3.11/dist-packages/whisper/transcribe.py:132: UserWarning: FP16 is not supported on CPU; using FP32 instead\n",
            "  warnings.warn(\"FP16 is not supported on CPU; using FP32 instead\")\n"
          ]
        }
      ]
    },
    {
      "cell_type": "code",
      "source": [],
      "metadata": {
        "id": "VHVwQjLdEgyB"
      },
      "execution_count": 15,
      "outputs": []
    }
  ]
}